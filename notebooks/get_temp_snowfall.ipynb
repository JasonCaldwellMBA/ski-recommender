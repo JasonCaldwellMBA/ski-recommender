{
 "cells": [
  {
   "cell_type": "markdown",
   "metadata": {},
   "source": [
    "This code was used to get real time temp, snowfall, and depth (TBD what to do with these stats). \n",
    "\n",
    "The elevs, colors, lifts, and prices function is now in make_mtn_df.py."
   ]
  },
  {
   "cell_type": "code",
   "execution_count": 1,
   "metadata": {
    "collapsed": true
   },
   "outputs": [],
   "source": [
    "import requests\n",
    "from bs4 import BeautifulSoup\n",
    "import pandas as pd\n",
    "from selenium import webdriver\n",
    "import time\n",
    "import pickle"
   ]
  },
  {
   "cell_type": "code",
   "execution_count": 2,
   "metadata": {
    "collapsed": true
   },
   "outputs": [],
   "source": [
    "browser = webdriver.PhantomJS()"
   ]
  },
  {
   "cell_type": "code",
   "execution_count": 3,
   "metadata": {
    "collapsed": true
   },
   "outputs": [],
   "source": [
    "resort_urls = {'Loveland': 'colorado/loveland',\n",
    "               'Arapahoe Basin': 'colorado/arapahoe-basin-ski-area',\n",
    "               'Copper': 'colorado/copper-mountain-resort',\n",
    "               'Eldora': 'colorado/eldora-mountain-resort',\n",
    "               'Alpine Meadows': 'california/squaw-valley-usa',\n",
    "               'Vail': 'colorado/vail',\n",
    "               'Monarch': 'colorado/monarch-mountain',\n",
    "               'Crested Butte': 'colorado/crested-butte-mountain-resort',\n",
    "               'Taos': 'new-mexico/taos-ski-valley',\n",
    "               'Diamond Peak': 'nevada/diamond-peak',\n",
    "               'Winter Park': 'colorado/winter-park-resort',\n",
    "               'Beaver Creek': 'colorado/beaver-creek'}"
   ]
  },
  {
   "cell_type": "code",
   "execution_count": 53,
   "metadata": {
    "collapsed": true
   },
   "outputs": [],
   "source": [
    "URL = 'http://www.onthesnow.com/'+resort_urls['Winter Park']+'/ski-resort.html'\n",
    "browser.get(URL)\n",
    "# time.sleep(3)"
   ]
  },
  {
   "cell_type": "code",
   "execution_count": 54,
   "metadata": {
    "collapsed": true
   },
   "outputs": [],
   "source": [
    "soup = BeautifulSoup(browser.page_source,'html.parser')\n",
    "temp_rows = soup.select('p.bluetxt.temp') \n",
    "snowfall_rows = soup.select('p.bluetxt.sfa')\n",
    "sdepth_rows = soup.select('p.bluetxt.sd') "
   ]
  },
  {
   "cell_type": "code",
   "execution_count": 89,
   "metadata": {
    "collapsed": true
   },
   "outputs": [],
   "source": [
    "temp = int(''.join([x for x in [cell.text for cell in temp_rows][0] if x.isnumeric()]))\n",
    "snowfall = int(''.join([x for x in [cell.text for cell in snowfall_rows][0] if x.isnumeric()]))\n",
    "depth = int(''.join([x if x.isnumeric() else '0' for x in [cell.text for cell in sdepth_rows][0]]))"
   ]
  },
  {
   "cell_type": "code",
   "execution_count": 90,
   "metadata": {},
   "outputs": [
    {
     "data": {
      "text/plain": [
       "(53, 0, 0)"
      ]
     },
     "execution_count": 90,
     "metadata": {},
     "output_type": "execute_result"
    }
   ],
   "source": [
    "temp, snowfall, depth"
   ]
  },
  {
   "cell_type": "code",
   "execution_count": 91,
   "metadata": {
    "collapsed": true
   },
   "outputs": [],
   "source": [
    "def get_stats(resort):\n",
    "    URL = 'http://www.onthesnow.com/'+resort_urls[resort]+'/ski-resort.html'\n",
    "    browser.get(URL)\n",
    "    soup = BeautifulSoup(browser.page_source,'html.parser')\n",
    "    temp_rows = soup.select('p.bluetxt.temp') \n",
    "    snowfall_rows = soup.select('p.bluetxt.sfa')\n",
    "    sdepth_rows = soup.select('p.bluetxt.sd') \n",
    "    temp = int(''.join([x for x in [cell.text for cell in temp_rows][0] if x.isnumeric()]))\n",
    "    snowfall = int(''.join([x for x in [cell.text for cell in snowfall_rows][0] if x.isnumeric()]))\n",
    "    depth = int(''.join([x if x.isnumeric() else '0' for x in [cell.text for cell in sdepth_rows][0]]))\n",
    "    return temp, snowfall, depth"
   ]
  },
  {
   "cell_type": "code",
   "execution_count": 92,
   "metadata": {},
   "outputs": [
    {
     "data": {
      "text/plain": [
       "(53, 0, 0)"
      ]
     },
     "execution_count": 92,
     "metadata": {},
     "output_type": "execute_result"
    }
   ],
   "source": [
    "get_stats('Winter Park')"
   ]
  },
  {
   "cell_type": "code",
   "execution_count": 93,
   "metadata": {},
   "outputs": [
    {
     "name": "stdout",
     "output_type": "stream",
     "text": [
      "(47, 0, 0)\n",
      "(47, 0, 0)\n",
      "(49, 0, 0)\n",
      "(57, 0, 0)\n",
      "(37, 0, 0)\n",
      "(52, 0, 0)\n",
      "(48, 0, 0)\n",
      "(44, 0, 0)\n",
      "(53, 0, 0)\n",
      "(36, 0, 0)\n",
      "(53, 0, 0)\n",
      "(53, 0, 0)\n"
     ]
    }
   ],
   "source": [
    "for resort in resort_urls:\n",
    "    print(get_stats(resort))"
   ]
  },
  {
   "cell_type": "code",
   "execution_count": 55,
   "metadata": {},
   "outputs": [],
   "source": [
    "stuff = soup.select('table.ovv_info tbody tr td')"
   ]
  },
  {
   "cell_type": "code",
   "execution_count": 56,
   "metadata": {},
   "outputs": [
    {
     "data": {
      "text/plain": [
       "['\\nClosed\\nSeason Start/End: 11/15 - 4/29\\n',\n",
       " '9000ft - 12060ft',\n",
       " '\\n24%|\\n                38%|\\n                34%|\\n                5%\\n',\n",
       " '25',\n",
       " '\\n                N/A\\n            ']"
      ]
     },
     "execution_count": 56,
     "metadata": {},
     "output_type": "execute_result"
    }
   ],
   "source": [
    "rows = [cell.text for cell in stuff]\n",
    "rows"
   ]
  },
  {
   "cell_type": "code",
   "execution_count": 59,
   "metadata": {
    "collapsed": true
   },
   "outputs": [],
   "source": [
    "_, elevs, colors, lifts, price = rows"
   ]
  },
  {
   "cell_type": "code",
   "execution_count": 10,
   "metadata": {},
   "outputs": [
    {
     "data": {
      "text/plain": [
       "(10800, 13010)"
      ]
     },
     "execution_count": 10,
     "metadata": {},
     "output_type": "execute_result"
    }
   ],
   "source": [
    "bottom = int(''.join([x for x in elevs.split()[0] if x.isnumeric()]))\n",
    "top = int(''.join([x for x in elevs.split()[2] if x.isnumeric()]))\n",
    "bottom, top"
   ]
  },
  {
   "cell_type": "code",
   "execution_count": 11,
   "metadata": {},
   "outputs": [
    {
     "data": {
      "text/plain": [
       "(13, 41, 20, 26)"
      ]
     },
     "execution_count": 11,
     "metadata": {},
     "output_type": "execute_result"
    }
   ],
   "source": [
    "greens = int(''.join([x for x in colors.split()[0] if x.isnumeric()]))\n",
    "blues = int(''.join([x for x in colors.split()[1] if x.isnumeric()]))\n",
    "blacks = int(''.join([x for x in colors.split()[2] if x.isnumeric()]))\n",
    "bbs = int(''.join([x for x in colors.split()[3] if x.isnumeric()]))\n",
    "greens, blues, blacks, bbs"
   ]
  },
  {
   "cell_type": "code",
   "execution_count": 12,
   "metadata": {},
   "outputs": [
    {
     "data": {
      "text/plain": [
       "10"
      ]
     },
     "execution_count": 12,
     "metadata": {},
     "output_type": "execute_result"
    }
   ],
   "source": [
    "lifts = int(lifts)\n",
    "lifts"
   ]
  },
  {
   "cell_type": "code",
   "execution_count": 61,
   "metadata": {},
   "outputs": [
    {
     "data": {
      "text/plain": [
       "['N/A']"
      ]
     },
     "execution_count": 61,
     "metadata": {},
     "output_type": "execute_result"
    }
   ],
   "source": [
    "price.split()"
   ]
  },
  {
   "cell_type": "code",
   "execution_count": 62,
   "metadata": {},
   "outputs": [
    {
     "ename": "IndexError",
     "evalue": "list index out of range",
     "output_type": "error",
     "traceback": [
      "\u001b[0;31m---------------------------------------------------------------------------\u001b[0m",
      "\u001b[0;31mIndexError\u001b[0m                                Traceback (most recent call last)",
      "\u001b[0;32m<ipython-input-62-130236d8b01c>\u001b[0m in \u001b[0;36m<module>\u001b[0;34m()\u001b[0m\n\u001b[0;32m----> 1\u001b[0;31m \u001b[0mprice_split\u001b[0m \u001b[0;34m=\u001b[0m \u001b[0mfloat\u001b[0m\u001b[0;34m(\u001b[0m\u001b[0;34m[\u001b[0m\u001b[0mx\u001b[0m \u001b[0;32mfor\u001b[0m \u001b[0mx\u001b[0m \u001b[0;32min\u001b[0m \u001b[0mprice\u001b[0m\u001b[0;34m.\u001b[0m\u001b[0msplit\u001b[0m\u001b[0;34m(\u001b[0m\u001b[0;34m)\u001b[0m \u001b[0;32mif\u001b[0m \u001b[0mx\u001b[0m\u001b[0;34m.\u001b[0m\u001b[0mstartswith\u001b[0m\u001b[0;34m(\u001b[0m\u001b[0;34m'US'\u001b[0m\u001b[0;34m)\u001b[0m\u001b[0;34m]\u001b[0m\u001b[0;34m[\u001b[0m\u001b[0;36m1\u001b[0m\u001b[0;34m]\u001b[0m\u001b[0;34m[\u001b[0m\u001b[0;36m3\u001b[0m\u001b[0;34m:\u001b[0m\u001b[0;34m]\u001b[0m\u001b[0;34m)\u001b[0m\u001b[0;34m\u001b[0m\u001b[0m\n\u001b[0m\u001b[1;32m      2\u001b[0m \u001b[0mprice_split\u001b[0m\u001b[0;34m\u001b[0m\u001b[0m\n",
      "\u001b[0;31mIndexError\u001b[0m: list index out of range"
     ]
    }
   ],
   "source": [
    "price_split = float([x for x in price.split() if x.startswith('US')][1][3:])\n",
    "price_split"
   ]
  },
  {
   "cell_type": "code",
   "execution_count": 145,
   "metadata": {
    "collapsed": true
   },
   "outputs": [],
   "source": [
    "def get_elevs_colors_lifts_price(resort):\n",
    "    URL = 'http://www.onthesnow.com/'+resort_urls[resort]+'/ski-resort.html'\n",
    "    browser.get(URL)\n",
    "    soup = BeautifulSoup(browser.page_source,'html.parser')\n",
    "    stuff = soup.select('table.ovv_info tbody tr td')\n",
    "    rows = [cell.text for cell in stuff]\n",
    "    _, elevs, colors, lifts, price = rows\n",
    "    bottom = int(''.join([x for x in elevs.split()[0] if x.isnumeric()]))\n",
    "    top = int(''.join([x for x in elevs.split()[2] if x.isnumeric()]))\n",
    "    greens = int(''.join([x for x in colors.split()[0] if x.isnumeric()]))\n",
    "    blues = int(''.join([x for x in colors.split()[1] if x.isnumeric()]))\n",
    "    blacks = int(''.join([x for x in colors.split()[2] if x.isnumeric()]))\n",
    "    bbs = int(''.join([x for x in colors.split()[3] if x.isnumeric()]))\n",
    "    lifts = int(lifts)\n",
    "    price = int(''.join([x if x.isnumeric() else '0' for x in price.split()[0]]))\n",
    "    return [bottom, top, greens, blues, blacks, bbs, lifts, price]"
   ]
  },
  {
   "cell_type": "code",
   "execution_count": 147,
   "metadata": {},
   "outputs": [
    {
     "name": "stdout",
     "output_type": "stream",
     "text": [
      "(10800, 13010, 13, 41, 20, 26, 10, 0)\n",
      "(10779, 13050, 10, 30, 37, 23, 8, 0)\n",
      "(9712, 12312, 21, 25, 36, 18, 23, 0)\n",
      "(9200, 10800, 21, 51, 19, 9, 11, 0)\n",
      "(6200, 9050, 25, 42, 33, 0, 42, 0)\n",
      "(8120, 11570, 18, 29, 28, 25, 31, 0)\n",
      "(10789, 11952, 23, 28, 36, 13, 6, 0)\n",
      "(9100, 12162, 26, 57, 14, 3, 15, 0)\n",
      "(9206, 12481, 24, 25, 33, 18, 16, 0)\n",
      "(6700, 8539, 10, 42, 48, 0, 7, 0)\n",
      "(9000, 12060, 24, 38, 34, 5, 25, 0)\n",
      "(8100, 11439, 19, 42, 22, 17, 25, 0)\n"
     ]
    }
   ],
   "source": [
    "elevs_colors_lifts_price = {}\n",
    "for resort in resort_urls:\n",
    "    elevs_colors_lifts_price[resort] = get_elevs_colors_lifts_price(resort)\n",
    "    print(elevs_colors_lifts_price[resort])"
   ]
  },
  {
   "cell_type": "code",
   "execution_count": null,
   "metadata": {
    "collapsed": true
   },
   "outputs": [],
   "source": []
  }
 ],
 "metadata": {
  "kernelspec": {
   "display_name": "Python 3",
   "language": "python",
   "name": "python3"
  },
  "language_info": {
   "codemirror_mode": {
    "name": "ipython",
    "version": 3
   },
   "file_extension": ".py",
   "mimetype": "text/x-python",
   "name": "python",
   "nbconvert_exporter": "python",
   "pygments_lexer": "ipython3",
   "version": "3.6.2"
  }
 },
 "nbformat": 4,
 "nbformat_minor": 2
}
